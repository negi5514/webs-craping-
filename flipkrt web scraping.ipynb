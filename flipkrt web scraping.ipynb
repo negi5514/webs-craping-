{
 "cells": [
  {
   "cell_type": "code",
   "execution_count": 1,
   "id": "43110085",
   "metadata": {},
   "outputs": [],
   "source": [
    "import pandas as pd\n",
    "import requests\n",
    "from bs4 import BeautifulSoup \n",
    "import numpy as np\n",
    "import matplotlib.pyplot as plt"
   ]
  },
  {
   "cell_type": "code",
   "execution_count": 2,
   "id": "ea0b59f4",
   "metadata": {},
   "outputs": [],
   "source": [
    "# read the url\n",
    "\n",
    "url = \"https://www.flipkart.com/laptops/~laptops-under-rs50000/pr?sid=6bo,b5g\""
   ]
  },
  {
   "cell_type": "code",
   "execution_count": 3,
   "id": "8b101e71",
   "metadata": {},
   "outputs": [],
   "source": [
    "response = requests.get(url)"
   ]
  },
  {
   "cell_type": "code",
   "execution_count": 4,
   "id": "457f0fe7",
   "metadata": {},
   "outputs": [
    {
     "data": {
      "text/plain": [
       "<Response [200]>"
      ]
     },
     "execution_count": 4,
     "metadata": {},
     "output_type": "execute_result"
    }
   ],
   "source": [
    "response"
   ]
  },
  {
   "cell_type": "code",
   "execution_count": 5,
   "id": "f00a4514",
   "metadata": {},
   "outputs": [],
   "source": [
    "response = response.content"
   ]
  },
  {
   "cell_type": "code",
   "execution_count": 6,
   "id": "c6abce2e",
   "metadata": {},
   "outputs": [],
   "source": [
    "soup = BeautifulSoup(response,'html.parser')"
   ]
  },
  {
   "cell_type": "code",
   "execution_count": 7,
   "id": "1ce09c29",
   "metadata": {},
   "outputs": [
    {
     "data": {
      "text/plain": [
       "bs4.BeautifulSoup"
      ]
     },
     "execution_count": 7,
     "metadata": {},
     "output_type": "execute_result"
    }
   ],
   "source": [
    "type(soup)"
   ]
  },
  {
   "cell_type": "code",
   "execution_count": 8,
   "id": "ff2ef632",
   "metadata": {},
   "outputs": [],
   "source": [
    "containers = soup.findAll('div',{'class':'_2kHMtA'})"
   ]
  },
  {
   "cell_type": "code",
   "execution_count": 9,
   "id": "9f3c05f2",
   "metadata": {},
   "outputs": [
    {
     "name": "stdout",
     "output_type": "stream",
     "text": [
      "<class 'bs4.element.ResultSet'> 24\n"
     ]
    }
   ],
   "source": [
    "containers = soup.findAll('div',{'class':'_2kHMtA'})\n",
    "print(type(containers),len(containers))"
   ]
  },
  {
   "cell_type": "code",
   "execution_count": 10,
   "id": "51a23c08",
   "metadata": {},
   "outputs": [
    {
     "data": {
      "text/plain": [
       "<div class=\"_2kHMtA\"><a class=\"_1fQZEK\" href=\"/hp-2023-athlon-dual-core-3050u-8-gb-512-gb-ssd-windows-11-home-15s-ey1509au-thin-light-laptop/p/itm930fe4c90a2f8?pid=COMGZVGHZXXRMWMU&amp;lid=LSTCOMGZVGHZXXRMWMUKR6CBK&amp;marketplace=FLIPKART&amp;store=6bo%2Fb5g&amp;srno=b_1_3&amp;otracker=browse&amp;fm=organic&amp;iid=e29285d2-ca19-4fdd-b25c-64bca3205bf2.COMGZVGHZXXRMWMU.SEARCH&amp;ppt=None&amp;ppn=None&amp;ssid=g3odrimj5c0000001698683481045\" rel=\"noopener noreferrer\" target=\"_blank\"><div class=\"MIXNux\"><div class=\"_2QcLo-\"><div><div class=\"CXW8mj\" style=\"height:200px;width:200px\"><img alt=\"HP 2023 Athlon Dual Core 3050U - (8 GB/512 GB SSD/Windows 11 Home) 15s-ey1509AU Thin and Light Laptop\" class=\"_396cs4\" loading=\"eager\" src=\"https://rukminim2.flixcart.com/image/312/312/xif0q/computer/5/6/i/-original-imaggshd5zgfe8ev.jpeg?q=70\"/></div></div></div><div class=\"_3wLduG\"><div class=\"_3PzNI-\"><span class=\"f3A4_V\"><label class=\"_2iDkf8\"><input class=\"_30VH1S\" readonly=\"\" type=\"checkbox\"/><div class=\"_24_Dny\"></div></label></span><label class=\"_6Up2sF\"><span>Add to Compare</span></label></div></div><div class=\"_2hVSre _3nq8ih\"><div class=\"_36FSn5\"><svg class=\"_1l0elc\" height=\"16\" viewbox=\"0 0 20 16\" width=\"16\" xmlns=\"http://www.w3.org/2000/svg\"><path class=\"eX72wL\" d=\"M8.695 16.682C4.06 12.382 1 9.536 1 6.065 1 3.219 3.178 1 5.95 1c1.566 0 3.069.746 4.05 1.915C10.981 1.745 12.484 1 14.05 1 16.822 1 19 3.22 19 6.065c0 3.471-3.06 6.316-7.695 10.617L10 17.897l-1.305-1.215z\" fill=\"#2874F0\" fill-rule=\"evenodd\" opacity=\".9\" stroke=\"#FFF\"></path></svg></div></div></div><div class=\"_3pLy-c row\"><div class=\"col col-7-12\"><div class=\"_4rR01T\">HP 2023 Athlon Dual Core 3050U - (8 GB/512 GB SSD/Windows 11 Home) 15s-ey1509AU Thin and Light Laptop</div><div class=\"gUuXy-\"><span class=\"_1lRcqv\" id=\"productRating_LSTCOMGZVGHZXXRMWMUKR6CBK_COMGZVGHZXXRMWMU_\"><div class=\"_3LWZlK\">4.1<img class=\"_1wB99o\" src=\"data:image/svg+xml;base64,PHN2ZyB4bWxucz0iaHR0cDovL3d3dy53My5vcmcvMjAwMC9zdmciIHdpZHRoPSIxMyIgaGVpZ2h0PSIxMiI+PHBhdGggZmlsbD0iI0ZGRiIgZD0iTTYuNSA5LjQzOWwtMy42NzQgMi4yMy45NC00LjI2LTMuMjEtMi44ODMgNC4yNTQtLjQwNEw2LjUuMTEybDEuNjkgNC4wMSA0LjI1NC40MDQtMy4yMSAyLjg4Mi45NCA0LjI2eiIvPjwvc3ZnPg==\"/></div></span><span class=\"_2_R_DZ\"><span><span>2,688 Ratings </span><span class=\"_13vcmD\">&amp;</span><span> 220 Reviews</span></span></span></div><div class=\"fMghEO\"><ul class=\"_1xgFaf\"><li class=\"rgWa7D\">AMD Athlon Dual Core Processor</li><li class=\"rgWa7D\">8 GB DDR4 RAM</li><li class=\"rgWa7D\">Windows 11 Operating System</li><li class=\"rgWa7D\">512 GB SSD</li><li class=\"rgWa7D\">39.62 cm (15.6 Inch) Display</li><li class=\"rgWa7D\">1 Year Onsite Warranty</li></ul></div></div><div class=\"col col-5-12 nlI3QM\"><div class=\"_3tbKJL\"><div class=\"_25b18c\"><div class=\"_30jeq3 _1_WHN1\">₹27,990</div><div class=\"_3I9_wc _27UcVY\">₹<!-- -->35,147</div><div class=\"_3Ay6Sb\"><span>20% off</span></div></div><div class=\"_3tcB5a p8ucoS\"><div><div class=\"_2Tpdn3\" style=\"color:#000000;font-size:12px;font-weight:400\">Free delivery</div></div></div></div><div class=\"_13J9qT\"><img height=\"21\" src=\"//static-assets-web.flixcart.com/fk-p-linchpin-web/fk-cp-zion/img/fa_62673a.png\"/></div><div class=\"_2ZdXDB\"><div class=\"_3xFhiH\"><div class=\"_2Tpdn3 _18hQoS\" style=\"color:#26A541;font-size:12px;font-style:normal;font-weight:700\">Save extra with combo offers</div></div></div><div class=\"_2ZdXDB\"><div class=\"_3xFhiH\"><div class=\"_2Tpdn3 _18hQoS\" style=\"color:#000000;font-size:14px;font-style:normal;font-weight:400\">Upto </div><div class=\"_2Tpdn3 _18hQoS\" style=\"color:#000000;font-size:14px;font-style:normal;font-weight:700\">₹20,000</div><div class=\"_2Tpdn3 _18hQoS\" style=\"color:#000000;font-size:14px;font-style:normal;font-weight:400\"> Off on Exchange</div></div></div></div></div></a></div>"
      ]
     },
     "execution_count": 10,
     "metadata": {},
     "output_type": "execute_result"
    }
   ],
   "source": [
    "containers[2]"
   ]
  },
  {
   "cell_type": "code",
   "execution_count": 11,
   "id": "7faf80f7",
   "metadata": {},
   "outputs": [
    {
     "name": "stdout",
     "output_type": "stream",
     "text": [
      "Primebook Wifi MT8183 4.2 9990 709 Ratings & 191 Reviews MediaTek MT8183 Processor 4 GB LPDDR4 RAM 29.46 cm (11.6 Inch) Display https://rukminim2.flixcart.com/image/312/312/xif0q/computer/5/c/5/-original-imagtrj27kprghgz.jpeg?q=70\n",
      "\n",
      "\n",
      "HP Chromebook MediaTek Kompanio 500 3.7 21190 6746 Ratings & 745 Reviews MediaTek Kompanio 500 Processor 4 GB LPDDR4X RAM 29.46 cm (11.6 inch) Touchscreen Display https://rukminim2.flixcart.com/image/312/312/xif0q/computer/2/m/e/-original-imagkqwzw9cdvgj2.jpeg?q=70\n",
      "\n",
      "\n",
      "HP 2023 Athlon Dual Core 3050U 4.1 27990 2688 Ratings & 220 Reviews AMD Athlon Dual Core Processor 8 GB DDR4 RAM 512 GB SSD https://rukminim2.flixcart.com/image/312/312/xif0q/computer/5/6/i/-original-imaggshd5zgfe8ev.jpeg?q=70\n",
      "\n",
      "\n",
      "HP 2023 Ryzen 3 Dual Core 3250U 4.2 30990 2924 Ratings & 271 Reviews AMD Ryzen 3 Dual Core Processor 8 GB DDR4 RAM 512 GB SSD https://rukminim2.flixcart.com/image/312/312/xif0q/computer/g/n/j/-original-imaguegfkhrkykxb.jpeg?q=70\n",
      "\n",
      "\n",
      "DELL Core i3 12th Gen 1215U 4.2 36290 516 Ratings & 58 Reviews Processor: Intel i3-1215U (Base- 0.9 GHz & Turbo up to 4.40 GHz) 6 Cores RAM & Storage: 8GB DDR4 & 512GB SSD Display: 15.6\" FHD WVA AG 120Hz 250 nits Narrow Border https://rukminim2.flixcart.com/image/312/312/xif0q/computer/n/o/s/-original-imaghzah9mjvukjz.jpeg?q=70\n",
      "\n",
      "\n",
      "realme Book (Slim) Core i3 11th Gen 1115G4 4.4 34999 15234 Ratings & 2137 Reviews Stylish & Portable Thin and Light Laptop 14 inch 2K QHD IPS LCD Display ( 400nits peak brightness 100% sRGB 3:2 aspect ratio Full Vision Display) Light Laptop without Optical Disk Drive https://rukminim2.flixcart.com/image/312/312/ksez24w0/computer/h/8/9/rmnb1001-thin-and-light-laptop-realme-original-imag5zhgcstmjbxg.jpeg?q=70\n",
      "\n",
      "\n",
      "Infinix INBook Y1 Plus Intel Core i3 10th Gen 1005G1 4.2 22990 2956 Ratings & 380 Reviews Intel Core i3 Processor (10th Gen) 8 GB LPDDR4X RAM 256 GB SSD https://rukminim2.flixcart.com/image/312/312/xif0q/computer/u/u/k/-original-imagmxuravjcmdwu.jpeg?q=70\n",
      "\n",
      "\n",
      "ASUS Chromebook Celeron Dual Core N4020 3.4 12990 451 Ratings & 40 Reviews Intel Celeron Dual Core Processor 4 GB LPDDR4 RAM 29.46 cm (11.6 Inch) Display https://rukminim2.flixcart.com/image/312/312/kwnv6a80/computer/9/c/i/-original-imag9aajekwegabt.jpeg?q=70\n",
      "\n",
      "\n",
      "realme Book Prime Core i5 11th Gen 11320H 4.3 49990 446 Ratings & 66 Reviews Intel Core i5 Processor (11th Gen) 16 GB LPDDR4X RAM 512 GB SSD https://rukminim2.flixcart.com/image/312/312/l1b1oy80/computer/g/y/l/book-prime-thin-and-light-laptop-realme-original-imagcwmbye2vak6g.jpeg?q=70\n",
      "\n",
      "\n",
      "HP Ryzen 5 Hexa Core 5500U 4.3 42490 1890 Ratings & 165 Reviews AMD Ryzen 5 Hexa Core Processor 16 GB DDR4 RAM 512 GB SSD https://rukminim2.flixcart.com/image/312/312/xif0q/computer/1/t/b/-original-imaguegyprhb7ba4.jpeg?q=70\n",
      "\n",
      "\n",
      "HP 360 Intel Celeron Quad Core N4020 4 27490 503 Ratings & 45 Reviews Intel Celeron Quad Core Processor 4 GB LPDDR4 RAM 35.56 cm (14 Inch) Touchscreen Display https://rukminim2.flixcart.com/image/312/312/xif0q/computer/z/o/h/-original-imaguefzgjekhgzd.jpeg?q=70\n",
      "\n",
      "\n",
      "HP Chromebook MediaTek Kompanio 500 3.7 21990 6746 Ratings & 745 Reviews MediaTek Kompanio 500 Processor 4 GB DDR4 RAM 29.46 cm (11.6 inch) Touchscreen Display https://rukminim2.flixcart.com/image/312/312/xif0q/computer/t/n/e/-original-imaguegfqkzypbtm.jpeg?q=70\n",
      "\n",
      "\n",
      "Acer One Core i3 11th Gen 1115G4 4.2 27990 3090 Ratings & 271 Reviews Intel Core i3 Processor (11th Gen) 8 GB DDR4 RAM 512 GB SSD https://rukminim2.flixcart.com/image/312/312/xif0q/computer/6/5/g/-original-imagtke7erkzwzfp.jpeg?q=70\n",
      "\n",
      "\n",
      "HP (2023) Intel Core i3 12th Gen 1215U 4.3 41990 1555 Ratings & 128 Reviews Intel Core i3 Processor (12th Gen) 8 GB DDR4 RAM 512 GB SSD https://rukminim2.flixcart.com/image/312/312/xif0q/computer/r/m/u/-original-imaguefzxjsqxgga.jpeg?q=70\n",
      "\n",
      "\n",
      "Lenovo Lenovo V15 Celeron Dual Core 4th Gen 4 23990 1109 Ratings & 85 Reviews Intel Celeron Dual Core Processor (4th Gen) 8 GB DDR4 RAM 256 GB SSD https://rukminim2.flixcart.com/image/312/312/xif0q/screen-guard/screen-guard/4/b/d/asg-14715-saco-original-imaghqbah9jycshw.jpeg?q=70\n",
      "\n",
      "\n",
      "Infinix X2 Slim Intel Core i5 11th Gen 1155G7 4.2 34990 379 Ratings & 65 Reviews Intel Core i5 Processor (11th Gen) 16 GB LPDDR4X RAM 512 GB SSD https://rukminim2.flixcart.com/image/312/312/xif0q/computer/i/1/h/inbook-thin-and-light-laptop-infinix-original-imagpyjexehgq3kg.jpeg?q=70\n",
      "\n",
      "\n",
      "HP 360 Intel Celeron Dual Core N4020 3.9 27490 594 Ratings & 61 Reviews Intel Celeron Dual Core Processor 4 GB LPDDR4 RAM 35.56 cm (14 Inch) Touchscreen Display https://rukminim2.flixcart.com/image/312/312/xif0q/computer/7/2/i/-original-imaguefz3bk62hrz.jpeg?q=70\n",
      "\n",
      "\n",
      "Primebook S Wifi MT8183 4.2 10990 324 Ratings & 97 Reviews MediaTek MT8183 Processor 4 GB LPDDR4 RAM 29.46 cm (11.6 Inch) Display https://rukminim2.flixcart.com/image/312/312/xif0q/computer/5/c/5/-original-imagtrj27kprghgz.jpeg?q=70\n",
      "\n",
      "\n",
      "HP 255 G9 840T7PA Athlon Dual Core 3050U 3.9 18990 382 Ratings & 31 Reviews AMD Athlon Dual Core Processor 4 GB DDR4 RAM 256 GB SSD https://rukminim2.flixcart.com/image/312/312/xif0q/computer/c/u/a/255-g8-notebook-hp-original-imagjhbj4jf3pjdy.jpeg?q=70\n",
      "\n",
      "\n",
      "ASUS Chromebook Celeron Dual Core N4500 3.8 18990 25 Ratings & 4 Reviews Intel Celeron Dual Core Processor 8 GB LPDDR4X RAM 35.56 cm (14 Inch) Display https://rukminim2.flixcart.com/image/312/312/xif0q/computer/7/d/p/-original-imagtmsy3bybzpvq.jpeg?q=70\n",
      "\n",
      "\n",
      "Primebook 4G Android Based MediaTek MT8788 4.1 12490 1174 Ratings & 350 Reviews MediaTek MT8788 Processor 4 GB LPDDR4 RAM 29.46 cm (11.6 Inch) Display https://rukminim2.flixcart.com/image/312/312/xif0q/computer/x/y/a/-original-imagttg9tykbzg3u.jpeg?q=70\n",
      "\n",
      "\n",
      "Primebook 4G Android Based MediaTek MT8788 4.2 11990 2169 Ratings & 689 Reviews MediaTek MT8788 Processor 4 GB LPDDR4 RAM 29.46 cm (11.6 Inch) Display https://rukminim2.flixcart.com/image/312/312/xif0q/computer/x/y/a/-original-imagttg9tykbzg3u.jpeg?q=70\n",
      "\n",
      "\n",
      "HP Intel Core i3 12th Gen 1215U 4.2 41990 1944 Ratings & 208 Reviews Intel Core i3 Processor (12th Gen) 8 GB DDR4 RAM 512 GB SSD https://rukminim2.flixcart.com/image/312/312/xif0q/computer/t/w/a/-original-imaguefzchu8a4pr.jpeg?q=70\n",
      "\n",
      "\n",
      "ASUS Vivobook 15 Core i5 11th Gen 1135G7 4.3 43990 6000 Ratings & 466 Reviews Intel Core i5 Processor (11th Gen) 8 GB DDR4 RAM 512 GB SSD https://rukminim2.flixcart.com/image/312/312/xif0q/computer/c/l/t/-original-imagtucmkuwggepy.jpeg?q=70\n",
      "\n",
      "\n"
     ]
    }
   ],
   "source": [
    "f = open('laptop_info.csv','wb')\n",
    "f.write('product,stars,price,rating,processor,ram,hardisk,ImageURL\\n'.encode())\n",
    "for container in containers:\n",
    "    product = container.find('div',{'class':\"_4rR01T\"})\n",
    "    product=product.text.split('-')[0].strip()\n",
    "\n",
    "   #total star laptop  \n",
    "    stars= container.find('div',{'class':'_3LWZlK'}).text\n",
    "   \n",
    "    \n",
    "   # top price of laptop\n",
    "    price = container.find('div',{'class':'_30jeq3 _1_WHN1'}).text.replace(',','').replace('₹','')\n",
    "   \n",
    "  # best rating of laptop \n",
    "    rating = container.find('span',{'class':'_2_R_DZ'}).text.replace(',','')\n",
    "   \n",
    "        \n",
    "    # informartion for processer\n",
    "    \n",
    "    info=container.findAll('li',{'class':'rgWa7D'})\n",
    "    processor=info[0].text.replace(',','')\n",
    "    ram=info[1].text.replace(',','')\n",
    "    hardisk=info[3].text\n",
    "    \n",
    " \n",
    "    \n",
    "    Image = container.img\n",
    "    ImageURL=Image.get('src')\n",
    "    print(product,stars,price,rating,processor,ram,hardisk,ImageURL)\n",
    "    f.write(f\"{product},{stars},{price},{rating},{processor},{ram},{hardisk},{ImageURL}\\n\".encode())\n",
    "    print('\\n')\n",
    "f.close()"
   ]
  },
  {
   "cell_type": "code",
   "execution_count": 12,
   "id": "2036d549",
   "metadata": {},
   "outputs": [
    {
     "ename": "IndentationError",
     "evalue": "unexpected indent (Temp/ipykernel_10184/188385180.py, line 2)",
     "output_type": "error",
     "traceback": [
      "\u001b[1;36m  File \u001b[1;32m\"C:\\Users\\AMIT-PC\\AppData\\Local\\Temp/ipykernel_10184/188385180.py\"\u001b[1;36m, line \u001b[1;32m2\u001b[0m\n\u001b[1;33m    print(rating)\u001b[0m\n\u001b[1;37m    ^\u001b[0m\n\u001b[1;31mIndentationError\u001b[0m\u001b[1;31m:\u001b[0m unexpected indent\n"
     ]
    }
   ],
   "source": [
    "rating = container.find('span',{'class':'_2_R_DZ'})\n",
    "     print(rating)"
   ]
  },
  {
   "cell_type": "code",
   "execution_count": null,
   "id": "b6451262",
   "metadata": {},
   "outputs": [],
   "source": [
    "import re\n",
    "\n",
    "ratview=re.findall('\\d+,*\\d+','457 Ratings & 111 Reviews')\n",
    "print(ratview[0],ratview[1])"
   ]
  },
  {
   "cell_type": "code",
   "execution_count": null,
   "id": "c95aa925",
   "metadata": {},
   "outputs": [],
   "source": [
    "df = pd.read_csv('laptop_info.csv')"
   ]
  },
  {
   "cell_type": "markdown",
   "id": "e43b1d7f",
   "metadata": {},
   "source": [
    " # Find the product having highest Ratings ?"
   ]
  },
  {
   "cell_type": "code",
   "execution_count": 13,
   "id": "88a227bf",
   "metadata": {},
   "outputs": [],
   "source": [
    "df = pd.read_csv('laptop_info.csv')"
   ]
  },
  {
   "cell_type": "code",
   "execution_count": 14,
   "id": "6f0e0815",
   "metadata": {},
   "outputs": [
    {
     "data": {
      "text/html": [
       "<div>\n",
       "<style scoped>\n",
       "    .dataframe tbody tr th:only-of-type {\n",
       "        vertical-align: middle;\n",
       "    }\n",
       "\n",
       "    .dataframe tbody tr th {\n",
       "        vertical-align: top;\n",
       "    }\n",
       "\n",
       "    .dataframe thead th {\n",
       "        text-align: right;\n",
       "    }\n",
       "</style>\n",
       "<table border=\"1\" class=\"dataframe\">\n",
       "  <thead>\n",
       "    <tr style=\"text-align: right;\">\n",
       "      <th></th>\n",
       "      <th>product</th>\n",
       "      <th>stars</th>\n",
       "      <th>price</th>\n",
       "      <th>rating</th>\n",
       "      <th>processor</th>\n",
       "      <th>ram</th>\n",
       "      <th>hardisk</th>\n",
       "      <th>ImageURL</th>\n",
       "    </tr>\n",
       "  </thead>\n",
       "  <tbody>\n",
       "    <tr>\n",
       "      <th>0</th>\n",
       "      <td>Primebook Wifi MT8183</td>\n",
       "      <td>4.2</td>\n",
       "      <td>9990</td>\n",
       "      <td>709 Ratings &amp; 191 Reviews</td>\n",
       "      <td>MediaTek MT8183 Processor</td>\n",
       "      <td>4 GB LPDDR4 RAM</td>\n",
       "      <td>29.46 cm (11.6 Inch) Display</td>\n",
       "      <td>https://rukminim2.flixcart.com/image/312/312/x...</td>\n",
       "    </tr>\n",
       "    <tr>\n",
       "      <th>1</th>\n",
       "      <td>HP Chromebook MediaTek Kompanio 500</td>\n",
       "      <td>3.7</td>\n",
       "      <td>21190</td>\n",
       "      <td>6746 Ratings &amp; 745 Reviews</td>\n",
       "      <td>MediaTek Kompanio 500 Processor</td>\n",
       "      <td>4 GB LPDDR4X RAM</td>\n",
       "      <td>29.46 cm (11.6 inch) Touchscreen Display</td>\n",
       "      <td>https://rukminim2.flixcart.com/image/312/312/x...</td>\n",
       "    </tr>\n",
       "    <tr>\n",
       "      <th>2</th>\n",
       "      <td>HP 2023 Athlon Dual Core 3050U</td>\n",
       "      <td>4.1</td>\n",
       "      <td>27990</td>\n",
       "      <td>2688 Ratings &amp; 220 Reviews</td>\n",
       "      <td>AMD Athlon Dual Core Processor</td>\n",
       "      <td>8 GB DDR4 RAM</td>\n",
       "      <td>512 GB SSD</td>\n",
       "      <td>https://rukminim2.flixcart.com/image/312/312/x...</td>\n",
       "    </tr>\n",
       "    <tr>\n",
       "      <th>3</th>\n",
       "      <td>HP 2023 Ryzen 3 Dual Core 3250U</td>\n",
       "      <td>4.2</td>\n",
       "      <td>30990</td>\n",
       "      <td>2924 Ratings &amp; 271 Reviews</td>\n",
       "      <td>AMD Ryzen 3 Dual Core Processor</td>\n",
       "      <td>8 GB DDR4 RAM</td>\n",
       "      <td>512 GB SSD</td>\n",
       "      <td>https://rukminim2.flixcart.com/image/312/312/x...</td>\n",
       "    </tr>\n",
       "    <tr>\n",
       "      <th>4</th>\n",
       "      <td>DELL Core i3 12th Gen 1215U</td>\n",
       "      <td>4.2</td>\n",
       "      <td>36290</td>\n",
       "      <td>516 Ratings &amp; 58 Reviews</td>\n",
       "      <td>Processor: Intel i3-1215U (Base- 0.9 GHz &amp; Tur...</td>\n",
       "      <td>RAM &amp; Storage: 8GB DDR4 &amp; 512GB SSD</td>\n",
       "      <td>Display: 15.6\" FHD WVA AG 120Hz 250 nits Narro...</td>\n",
       "      <td>https://rukminim2.flixcart.com/image/312/312/x...</td>\n",
       "    </tr>\n",
       "  </tbody>\n",
       "</table>\n",
       "</div>"
      ],
      "text/plain": [
       "                               product  stars  price  \\\n",
       "0                Primebook Wifi MT8183    4.2   9990   \n",
       "1  HP Chromebook MediaTek Kompanio 500    3.7  21190   \n",
       "2       HP 2023 Athlon Dual Core 3050U    4.1  27990   \n",
       "3      HP 2023 Ryzen 3 Dual Core 3250U    4.2  30990   \n",
       "4          DELL Core i3 12th Gen 1215U    4.2  36290   \n",
       "\n",
       "                       rating  \\\n",
       "0   709 Ratings & 191 Reviews   \n",
       "1  6746 Ratings & 745 Reviews   \n",
       "2  2688 Ratings & 220 Reviews   \n",
       "3  2924 Ratings & 271 Reviews   \n",
       "4    516 Ratings & 58 Reviews   \n",
       "\n",
       "                                           processor  \\\n",
       "0                          MediaTek MT8183 Processor   \n",
       "1                    MediaTek Kompanio 500 Processor   \n",
       "2                     AMD Athlon Dual Core Processor   \n",
       "3                    AMD Ryzen 3 Dual Core Processor   \n",
       "4  Processor: Intel i3-1215U (Base- 0.9 GHz & Tur...   \n",
       "\n",
       "                                   ram  \\\n",
       "0                      4 GB LPDDR4 RAM   \n",
       "1                     4 GB LPDDR4X RAM   \n",
       "2                        8 GB DDR4 RAM   \n",
       "3                        8 GB DDR4 RAM   \n",
       "4  RAM & Storage: 8GB DDR4 & 512GB SSD   \n",
       "\n",
       "                                             hardisk  \\\n",
       "0                       29.46 cm (11.6 Inch) Display   \n",
       "1           29.46 cm (11.6 inch) Touchscreen Display   \n",
       "2                                         512 GB SSD   \n",
       "3                                         512 GB SSD   \n",
       "4  Display: 15.6\" FHD WVA AG 120Hz 250 nits Narro...   \n",
       "\n",
       "                                            ImageURL  \n",
       "0  https://rukminim2.flixcart.com/image/312/312/x...  \n",
       "1  https://rukminim2.flixcart.com/image/312/312/x...  \n",
       "2  https://rukminim2.flixcart.com/image/312/312/x...  \n",
       "3  https://rukminim2.flixcart.com/image/312/312/x...  \n",
       "4  https://rukminim2.flixcart.com/image/312/312/x...  "
      ]
     },
     "execution_count": 14,
     "metadata": {},
     "output_type": "execute_result"
    }
   ],
   "source": [
    "df.head()"
   ]
  },
  {
   "cell_type": "code",
   "execution_count": 15,
   "id": "a4ff9f2b",
   "metadata": {},
   "outputs": [
    {
     "data": {
      "text/plain": [
       "'709 Ratings\\xa0&\\xa0191 Reviews'"
      ]
     },
     "execution_count": 15,
     "metadata": {},
     "output_type": "execute_result"
    }
   ],
   "source": [
    "df['rating'].max()"
   ]
  },
  {
   "cell_type": "code",
   "execution_count": 16,
   "id": "8adc7c8c",
   "metadata": {},
   "outputs": [
    {
     "data": {
      "text/html": [
       "<div>\n",
       "<style scoped>\n",
       "    .dataframe tbody tr th:only-of-type {\n",
       "        vertical-align: middle;\n",
       "    }\n",
       "\n",
       "    .dataframe tbody tr th {\n",
       "        vertical-align: top;\n",
       "    }\n",
       "\n",
       "    .dataframe thead th {\n",
       "        text-align: right;\n",
       "    }\n",
       "</style>\n",
       "<table border=\"1\" class=\"dataframe\">\n",
       "  <thead>\n",
       "    <tr style=\"text-align: right;\">\n",
       "      <th></th>\n",
       "      <th>product</th>\n",
       "      <th>stars</th>\n",
       "      <th>price</th>\n",
       "      <th>rating</th>\n",
       "      <th>processor</th>\n",
       "      <th>ram</th>\n",
       "      <th>hardisk</th>\n",
       "      <th>ImageURL</th>\n",
       "    </tr>\n",
       "  </thead>\n",
       "  <tbody>\n",
       "    <tr>\n",
       "      <th>0</th>\n",
       "      <td>Primebook Wifi MT8183</td>\n",
       "      <td>4.2</td>\n",
       "      <td>9990</td>\n",
       "      <td>709 Ratings &amp; 191 Reviews</td>\n",
       "      <td>MediaTek MT8183 Processor</td>\n",
       "      <td>4 GB LPDDR4 RAM</td>\n",
       "      <td>29.46 cm (11.6 Inch) Display</td>\n",
       "      <td>https://rukminim2.flixcart.com/image/312/312/x...</td>\n",
       "    </tr>\n",
       "  </tbody>\n",
       "</table>\n",
       "</div>"
      ],
      "text/plain": [
       "                 product  stars  price                     rating  \\\n",
       "0  Primebook Wifi MT8183    4.2   9990  709 Ratings & 191 Reviews   \n",
       "\n",
       "                   processor              ram                       hardisk  \\\n",
       "0  MediaTek MT8183 Processor  4 GB LPDDR4 RAM  29.46 cm (11.6 Inch) Display   \n",
       "\n",
       "                                            ImageURL  \n",
       "0  https://rukminim2.flixcart.com/image/312/312/x...  "
      ]
     },
     "execution_count": 16,
     "metadata": {},
     "output_type": "execute_result"
    }
   ],
   "source": [
    "df[df['rating']==max(df['rating'])]"
   ]
  },
  {
   "cell_type": "code",
   "execution_count": 17,
   "id": "7d1736a6",
   "metadata": {},
   "outputs": [
    {
     "data": {
      "text/html": [
       "<div>\n",
       "<style scoped>\n",
       "    .dataframe tbody tr th:only-of-type {\n",
       "        vertical-align: middle;\n",
       "    }\n",
       "\n",
       "    .dataframe tbody tr th {\n",
       "        vertical-align: top;\n",
       "    }\n",
       "\n",
       "    .dataframe thead th {\n",
       "        text-align: right;\n",
       "    }\n",
       "</style>\n",
       "<table border=\"1\" class=\"dataframe\">\n",
       "  <thead>\n",
       "    <tr style=\"text-align: right;\">\n",
       "      <th></th>\n",
       "      <th>product</th>\n",
       "      <th>stars</th>\n",
       "      <th>price</th>\n",
       "      <th>rating</th>\n",
       "      <th>processor</th>\n",
       "      <th>ram</th>\n",
       "      <th>hardisk</th>\n",
       "      <th>ImageURL</th>\n",
       "    </tr>\n",
       "  </thead>\n",
       "  <tbody>\n",
       "    <tr>\n",
       "      <th>0</th>\n",
       "      <td>Primebook Wifi MT8183</td>\n",
       "      <td>4.2</td>\n",
       "      <td>9990</td>\n",
       "      <td>709 Ratings &amp; 191 Reviews</td>\n",
       "      <td>MediaTek MT8183 Processor</td>\n",
       "      <td>4 GB LPDDR4 RAM</td>\n",
       "      <td>29.46 cm (11.6 Inch) Display</td>\n",
       "      <td>https://rukminim2.flixcart.com/image/312/312/x...</td>\n",
       "    </tr>\n",
       "    <tr>\n",
       "      <th>1</th>\n",
       "      <td>HP Chromebook MediaTek Kompanio 500</td>\n",
       "      <td>3.7</td>\n",
       "      <td>21190</td>\n",
       "      <td>6746 Ratings &amp; 745 Reviews</td>\n",
       "      <td>MediaTek Kompanio 500 Processor</td>\n",
       "      <td>4 GB LPDDR4X RAM</td>\n",
       "      <td>29.46 cm (11.6 inch) Touchscreen Display</td>\n",
       "      <td>https://rukminim2.flixcart.com/image/312/312/x...</td>\n",
       "    </tr>\n",
       "    <tr>\n",
       "      <th>2</th>\n",
       "      <td>HP 2023 Athlon Dual Core 3050U</td>\n",
       "      <td>4.1</td>\n",
       "      <td>27990</td>\n",
       "      <td>2688 Ratings &amp; 220 Reviews</td>\n",
       "      <td>AMD Athlon Dual Core Processor</td>\n",
       "      <td>8 GB DDR4 RAM</td>\n",
       "      <td>512 GB SSD</td>\n",
       "      <td>https://rukminim2.flixcart.com/image/312/312/x...</td>\n",
       "    </tr>\n",
       "    <tr>\n",
       "      <th>3</th>\n",
       "      <td>HP 2023 Ryzen 3 Dual Core 3250U</td>\n",
       "      <td>4.2</td>\n",
       "      <td>30990</td>\n",
       "      <td>2924 Ratings &amp; 271 Reviews</td>\n",
       "      <td>AMD Ryzen 3 Dual Core Processor</td>\n",
       "      <td>8 GB DDR4 RAM</td>\n",
       "      <td>512 GB SSD</td>\n",
       "      <td>https://rukminim2.flixcart.com/image/312/312/x...</td>\n",
       "    </tr>\n",
       "    <tr>\n",
       "      <th>4</th>\n",
       "      <td>DELL Core i3 12th Gen 1215U</td>\n",
       "      <td>4.2</td>\n",
       "      <td>36290</td>\n",
       "      <td>516 Ratings &amp; 58 Reviews</td>\n",
       "      <td>Processor: Intel i3-1215U (Base- 0.9 GHz &amp; Tur...</td>\n",
       "      <td>RAM &amp; Storage: 8GB DDR4 &amp; 512GB SSD</td>\n",
       "      <td>Display: 15.6\" FHD WVA AG 120Hz 250 nits Narro...</td>\n",
       "      <td>https://rukminim2.flixcart.com/image/312/312/x...</td>\n",
       "    </tr>\n",
       "  </tbody>\n",
       "</table>\n",
       "</div>"
      ],
      "text/plain": [
       "                               product  stars  price  \\\n",
       "0                Primebook Wifi MT8183    4.2   9990   \n",
       "1  HP Chromebook MediaTek Kompanio 500    3.7  21190   \n",
       "2       HP 2023 Athlon Dual Core 3050U    4.1  27990   \n",
       "3      HP 2023 Ryzen 3 Dual Core 3250U    4.2  30990   \n",
       "4          DELL Core i3 12th Gen 1215U    4.2  36290   \n",
       "\n",
       "                       rating  \\\n",
       "0   709 Ratings & 191 Reviews   \n",
       "1  6746 Ratings & 745 Reviews   \n",
       "2  2688 Ratings & 220 Reviews   \n",
       "3  2924 Ratings & 271 Reviews   \n",
       "4    516 Ratings & 58 Reviews   \n",
       "\n",
       "                                           processor  \\\n",
       "0                          MediaTek MT8183 Processor   \n",
       "1                    MediaTek Kompanio 500 Processor   \n",
       "2                     AMD Athlon Dual Core Processor   \n",
       "3                    AMD Ryzen 3 Dual Core Processor   \n",
       "4  Processor: Intel i3-1215U (Base- 0.9 GHz & Tur...   \n",
       "\n",
       "                                   ram  \\\n",
       "0                      4 GB LPDDR4 RAM   \n",
       "1                     4 GB LPDDR4X RAM   \n",
       "2                        8 GB DDR4 RAM   \n",
       "3                        8 GB DDR4 RAM   \n",
       "4  RAM & Storage: 8GB DDR4 & 512GB SSD   \n",
       "\n",
       "                                             hardisk  \\\n",
       "0                       29.46 cm (11.6 Inch) Display   \n",
       "1           29.46 cm (11.6 inch) Touchscreen Display   \n",
       "2                                         512 GB SSD   \n",
       "3                                         512 GB SSD   \n",
       "4  Display: 15.6\" FHD WVA AG 120Hz 250 nits Narro...   \n",
       "\n",
       "                                            ImageURL  \n",
       "0  https://rukminim2.flixcart.com/image/312/312/x...  \n",
       "1  https://rukminim2.flixcart.com/image/312/312/x...  \n",
       "2  https://rukminim2.flixcart.com/image/312/312/x...  \n",
       "3  https://rukminim2.flixcart.com/image/312/312/x...  \n",
       "4  https://rukminim2.flixcart.com/image/312/312/x...  "
      ]
     },
     "execution_count": 17,
     "metadata": {},
     "output_type": "execute_result"
    }
   ],
   "source": [
    "df.head()"
   ]
  },
  {
   "cell_type": "code",
   "execution_count": 18,
   "id": "958af732",
   "metadata": {},
   "outputs": [
    {
     "data": {
      "text/plain": [
       "4.4"
      ]
     },
     "execution_count": 18,
     "metadata": {},
     "output_type": "execute_result"
    }
   ],
   "source": [
    "df['stars'].max()"
   ]
  },
  {
   "cell_type": "code",
   "execution_count": 19,
   "id": "d7e9b807",
   "metadata": {},
   "outputs": [
    {
     "data": {
      "text/html": [
       "<div>\n",
       "<style scoped>\n",
       "    .dataframe tbody tr th:only-of-type {\n",
       "        vertical-align: middle;\n",
       "    }\n",
       "\n",
       "    .dataframe tbody tr th {\n",
       "        vertical-align: top;\n",
       "    }\n",
       "\n",
       "    .dataframe thead th {\n",
       "        text-align: right;\n",
       "    }\n",
       "</style>\n",
       "<table border=\"1\" class=\"dataframe\">\n",
       "  <thead>\n",
       "    <tr style=\"text-align: right;\">\n",
       "      <th></th>\n",
       "      <th>product</th>\n",
       "      <th>stars</th>\n",
       "      <th>price</th>\n",
       "      <th>rating</th>\n",
       "      <th>processor</th>\n",
       "      <th>ram</th>\n",
       "      <th>hardisk</th>\n",
       "      <th>ImageURL</th>\n",
       "    </tr>\n",
       "  </thead>\n",
       "  <tbody>\n",
       "    <tr>\n",
       "      <th>5</th>\n",
       "      <td>realme Book (Slim) Core i3 11th Gen 1115G4</td>\n",
       "      <td>4.4</td>\n",
       "      <td>34999</td>\n",
       "      <td>15234 Ratings &amp; 2137 Reviews</td>\n",
       "      <td>Stylish &amp; Portable Thin and Light Laptop</td>\n",
       "      <td>14 inch 2K QHD IPS LCD Display ( 400nits peak ...</td>\n",
       "      <td>Light Laptop without Optical Disk Drive</td>\n",
       "      <td>https://rukminim2.flixcart.com/image/312/312/k...</td>\n",
       "    </tr>\n",
       "  </tbody>\n",
       "</table>\n",
       "</div>"
      ],
      "text/plain": [
       "                                      product  stars  price  \\\n",
       "5  realme Book (Slim) Core i3 11th Gen 1115G4    4.4  34999   \n",
       "\n",
       "                         rating                                 processor  \\\n",
       "5  15234 Ratings & 2137 Reviews  Stylish & Portable Thin and Light Laptop   \n",
       "\n",
       "                                                 ram  \\\n",
       "5  14 inch 2K QHD IPS LCD Display ( 400nits peak ...   \n",
       "\n",
       "                                   hardisk  \\\n",
       "5  Light Laptop without Optical Disk Drive   \n",
       "\n",
       "                                            ImageURL  \n",
       "5  https://rukminim2.flixcart.com/image/312/312/k...  "
      ]
     },
     "execution_count": 19,
     "metadata": {},
     "output_type": "execute_result"
    }
   ],
   "source": [
    "df[df['stars']==max(df['stars'])]"
   ]
  },
  {
   "cell_type": "code",
   "execution_count": 20,
   "id": "046c2e4a",
   "metadata": {},
   "outputs": [
    {
     "data": {
      "text/plain": [
       "(24, 8)"
      ]
     },
     "execution_count": 20,
     "metadata": {},
     "output_type": "execute_result"
    }
   ],
   "source": [
    "df.shape"
   ]
  },
  {
   "cell_type": "code",
   "execution_count": 21,
   "id": "1eeda429",
   "metadata": {},
   "outputs": [
    {
     "data": {
      "text/plain": [
       "Index(['4 GB LPDDR4 RAM', '8 GB DDR4 RAM', '8 GB LPDDR4X RAM',\n",
       "       '16 GB LPDDR4X RAM', '4 GB DDR4 RAM'],\n",
       "      dtype='object')"
      ]
     },
     "execution_count": 21,
     "metadata": {},
     "output_type": "execute_result"
    }
   ],
   "source": [
    "df['ram'].value_counts()[0:5].keys()"
   ]
  },
  {
   "cell_type": "code",
   "execution_count": 22,
   "id": "e7d4b030",
   "metadata": {},
   "outputs": [
    {
     "data": {
      "image/png": "[encoded data removed]",
      "text/plain": [
       "<Figure size 648x360 with 1 Axes>"
      ]
     },
     "metadata": {
      "needs_background": "light"
     },
     "output_type": "display_data"
    }
   ],
   "source": [
    "plt.figure(figsize=(9,5))\n",
    "plt.bar(list(df['ram'].value_counts()[0:5].keys()),list(df['ram'].value_counts()[0:5]),color='r')\n",
    "plt.show()"
   ]
  },
  {
   "cell_type": "code",
   "execution_count": 23,
   "id": "26c2d4c1",
   "metadata": {},
   "outputs": [],
   "source": [
    "# top 5 rating laptop\n",
    "gh=df.sort_values('price',ascending= False ).head()"
   ]
  },
  {
   "cell_type": "code",
   "execution_count": 24,
   "id": "4d6076e5",
   "metadata": {},
   "outputs": [
    {
     "data": {
      "image/png": "[encoded data removed]",
      "text/plain": [
       "<Figure size 360x360 with 1 Axes>"
      ]
     },
     "metadata": {
      "needs_background": "light"
     },
     "output_type": "display_data"
    }
   ],
   "source": [
    "plt.figure(figsize=(5,5))\n",
    "plt.bar(list(gh['price'].value_counts()[0:5].keys()),list(gh['price'].value_counts()[0:5]),color='g')\n",
    "plt.show()"
   ]
  },
  {
   "cell_type": "code",
   "execution_count": 25,
   "id": "fa91c136",
   "metadata": {},
   "outputs": [
    {
     "data": {
      "image/png": "[encoded data removed]",
      "text/plain": [
       "<Figure size 1008x648 with 1 Axes>"
      ]
     },
     "metadata": {
      "needs_background": "light"
     },
     "output_type": "display_data"
    }
   ],
   "source": [
    "plt.figure(figsize=(14,9))\n",
    "plt.bar(x=gh['product'],height=gh['rating'])\n",
    "plt.title('Highest Rating Laptops', fontsize=22)\n",
    "plt.xlabel('Laptop Name', fontsize=19)\n",
    "plt.ylabel('Rating',fontsize=19)\n",
    "plt.xticks(rotation=280)\n",
    "plt.savefig('mylaptopchart.jpg')\n",
    "plt.show()"
   ]
  },
  {
   "cell_type": "code",
   "execution_count": 26,
   "id": "feadf4db",
   "metadata": {},
   "outputs": [],
   "source": [
    "kl=df.sort_values('price', ascending=False)"
   ]
  },
  {
   "cell_type": "code",
   "execution_count": 27,
   "id": "f799af2b",
   "metadata": {},
   "outputs": [
    {
     "data": {
      "text/html": [
       "<div>\n",
       "<style scoped>\n",
       "    .dataframe tbody tr th:only-of-type {\n",
       "        vertical-align: middle;\n",
       "    }\n",
       "\n",
       "    .dataframe tbody tr th {\n",
       "        vertical-align: top;\n",
       "    }\n",
       "\n",
       "    .dataframe thead th {\n",
       "        text-align: right;\n",
       "    }\n",
       "</style>\n",
       "<table border=\"1\" class=\"dataframe\">\n",
       "  <thead>\n",
       "    <tr style=\"text-align: right;\">\n",
       "      <th></th>\n",
       "      <th>product</th>\n",
       "      <th>stars</th>\n",
       "      <th>price</th>\n",
       "      <th>rating</th>\n",
       "      <th>processor</th>\n",
       "      <th>ram</th>\n",
       "      <th>hardisk</th>\n",
       "      <th>ImageURL</th>\n",
       "    </tr>\n",
       "  </thead>\n",
       "  <tbody>\n",
       "    <tr>\n",
       "      <th>8</th>\n",
       "      <td>realme Book Prime Core i5 11th Gen 11320H</td>\n",
       "      <td>4.3</td>\n",
       "      <td>49990</td>\n",
       "      <td>446 Ratings &amp; 66 Reviews</td>\n",
       "      <td>Intel Core i5 Processor (11th Gen)</td>\n",
       "      <td>16 GB LPDDR4X RAM</td>\n",
       "      <td>512 GB SSD</td>\n",
       "      <td>https://rukminim2.flixcart.com/image/312/312/l...</td>\n",
       "    </tr>\n",
       "    <tr>\n",
       "      <th>23</th>\n",
       "      <td>ASUS Vivobook 15 Core i5 11th Gen 1135G7</td>\n",
       "      <td>4.3</td>\n",
       "      <td>43990</td>\n",
       "      <td>6000 Ratings &amp; 466 Reviews</td>\n",
       "      <td>Intel Core i5 Processor (11th Gen)</td>\n",
       "      <td>8 GB DDR4 RAM</td>\n",
       "      <td>512 GB SSD</td>\n",
       "      <td>https://rukminim2.flixcart.com/image/312/312/x...</td>\n",
       "    </tr>\n",
       "    <tr>\n",
       "      <th>9</th>\n",
       "      <td>HP Ryzen 5 Hexa Core 5500U</td>\n",
       "      <td>4.3</td>\n",
       "      <td>42490</td>\n",
       "      <td>1890 Ratings &amp; 165 Reviews</td>\n",
       "      <td>AMD Ryzen 5 Hexa Core Processor</td>\n",
       "      <td>16 GB DDR4 RAM</td>\n",
       "      <td>512 GB SSD</td>\n",
       "      <td>https://rukminim2.flixcart.com/image/312/312/x...</td>\n",
       "    </tr>\n",
       "    <tr>\n",
       "      <th>22</th>\n",
       "      <td>HP Intel Core i3 12th Gen 1215U</td>\n",
       "      <td>4.2</td>\n",
       "      <td>41990</td>\n",
       "      <td>1944 Ratings &amp; 208 Reviews</td>\n",
       "      <td>Intel Core i3 Processor (12th Gen)</td>\n",
       "      <td>8 GB DDR4 RAM</td>\n",
       "      <td>512 GB SSD</td>\n",
       "      <td>https://rukminim2.flixcart.com/image/312/312/x...</td>\n",
       "    </tr>\n",
       "    <tr>\n",
       "      <th>13</th>\n",
       "      <td>HP (2023) Intel Core i3 12th Gen 1215U</td>\n",
       "      <td>4.3</td>\n",
       "      <td>41990</td>\n",
       "      <td>1555 Ratings &amp; 128 Reviews</td>\n",
       "      <td>Intel Core i3 Processor (12th Gen)</td>\n",
       "      <td>8 GB DDR4 RAM</td>\n",
       "      <td>512 GB SSD</td>\n",
       "      <td>https://rukminim2.flixcart.com/image/312/312/x...</td>\n",
       "    </tr>\n",
       "    <tr>\n",
       "      <th>4</th>\n",
       "      <td>DELL Core i3 12th Gen 1215U</td>\n",
       "      <td>4.2</td>\n",
       "      <td>36290</td>\n",
       "      <td>516 Ratings &amp; 58 Reviews</td>\n",
       "      <td>Processor: Intel i3-1215U (Base- 0.9 GHz &amp; Tur...</td>\n",
       "      <td>RAM &amp; Storage: 8GB DDR4 &amp; 512GB SSD</td>\n",
       "      <td>Display: 15.6\" FHD WVA AG 120Hz 250 nits Narro...</td>\n",
       "      <td>https://rukminim2.flixcart.com/image/312/312/x...</td>\n",
       "    </tr>\n",
       "    <tr>\n",
       "      <th>5</th>\n",
       "      <td>realme Book (Slim) Core i3 11th Gen 1115G4</td>\n",
       "      <td>4.4</td>\n",
       "      <td>34999</td>\n",
       "      <td>15234 Ratings &amp; 2137 Reviews</td>\n",
       "      <td>Stylish &amp; Portable Thin and Light Laptop</td>\n",
       "      <td>14 inch 2K QHD IPS LCD Display ( 400nits peak ...</td>\n",
       "      <td>Light Laptop without Optical Disk Drive</td>\n",
       "      <td>https://rukminim2.flixcart.com/image/312/312/k...</td>\n",
       "    </tr>\n",
       "    <tr>\n",
       "      <th>15</th>\n",
       "      <td>Infinix X2 Slim Intel Core i5 11th Gen 1155G7</td>\n",
       "      <td>4.2</td>\n",
       "      <td>34990</td>\n",
       "      <td>379 Ratings &amp; 65 Reviews</td>\n",
       "      <td>Intel Core i5 Processor (11th Gen)</td>\n",
       "      <td>16 GB LPDDR4X RAM</td>\n",
       "      <td>512 GB SSD</td>\n",
       "      <td>https://rukminim2.flixcart.com/image/312/312/x...</td>\n",
       "    </tr>\n",
       "    <tr>\n",
       "      <th>3</th>\n",
       "      <td>HP 2023 Ryzen 3 Dual Core 3250U</td>\n",
       "      <td>4.2</td>\n",
       "      <td>30990</td>\n",
       "      <td>2924 Ratings &amp; 271 Reviews</td>\n",
       "      <td>AMD Ryzen 3 Dual Core Processor</td>\n",
       "      <td>8 GB DDR4 RAM</td>\n",
       "      <td>512 GB SSD</td>\n",
       "      <td>https://rukminim2.flixcart.com/image/312/312/x...</td>\n",
       "    </tr>\n",
       "    <tr>\n",
       "      <th>12</th>\n",
       "      <td>Acer One Core i3 11th Gen 1115G4</td>\n",
       "      <td>4.2</td>\n",
       "      <td>27990</td>\n",
       "      <td>3090 Ratings &amp; 271 Reviews</td>\n",
       "      <td>Intel Core i3 Processor (11th Gen)</td>\n",
       "      <td>8 GB DDR4 RAM</td>\n",
       "      <td>512 GB SSD</td>\n",
       "      <td>https://rukminim2.flixcart.com/image/312/312/x...</td>\n",
       "    </tr>\n",
       "    <tr>\n",
       "      <th>2</th>\n",
       "      <td>HP 2023 Athlon Dual Core 3050U</td>\n",
       "      <td>4.1</td>\n",
       "      <td>27990</td>\n",
       "      <td>2688 Ratings &amp; 220 Reviews</td>\n",
       "      <td>AMD Athlon Dual Core Processor</td>\n",
       "      <td>8 GB DDR4 RAM</td>\n",
       "      <td>512 GB SSD</td>\n",
       "      <td>https://rukminim2.flixcart.com/image/312/312/x...</td>\n",
       "    </tr>\n",
       "    <tr>\n",
       "      <th>10</th>\n",
       "      <td>HP 360 Intel Celeron Quad Core N4020</td>\n",
       "      <td>4.0</td>\n",
       "      <td>27490</td>\n",
       "      <td>503 Ratings &amp; 45 Reviews</td>\n",
       "      <td>Intel Celeron Quad Core Processor</td>\n",
       "      <td>4 GB LPDDR4 RAM</td>\n",
       "      <td>35.56 cm (14 Inch) Touchscreen Display</td>\n",
       "      <td>https://rukminim2.flixcart.com/image/312/312/x...</td>\n",
       "    </tr>\n",
       "    <tr>\n",
       "      <th>16</th>\n",
       "      <td>HP 360 Intel Celeron Dual Core N4020</td>\n",
       "      <td>3.9</td>\n",
       "      <td>27490</td>\n",
       "      <td>594 Ratings &amp; 61 Reviews</td>\n",
       "      <td>Intel Celeron Dual Core Processor</td>\n",
       "      <td>4 GB LPDDR4 RAM</td>\n",
       "      <td>35.56 cm (14 Inch) Touchscreen Display</td>\n",
       "      <td>https://rukminim2.flixcart.com/image/312/312/x...</td>\n",
       "    </tr>\n",
       "    <tr>\n",
       "      <th>14</th>\n",
       "      <td>Lenovo Lenovo V15 Celeron Dual Core 4th Gen</td>\n",
       "      <td>4.0</td>\n",
       "      <td>23990</td>\n",
       "      <td>1109 Ratings &amp; 85 Reviews</td>\n",
       "      <td>Intel Celeron Dual Core Processor (4th Gen)</td>\n",
       "      <td>8 GB DDR4 RAM</td>\n",
       "      <td>256 GB SSD</td>\n",
       "      <td>https://rukminim2.flixcart.com/image/312/312/x...</td>\n",
       "    </tr>\n",
       "    <tr>\n",
       "      <th>6</th>\n",
       "      <td>Infinix INBook Y1 Plus Intel Core i3 10th Gen ...</td>\n",
       "      <td>4.2</td>\n",
       "      <td>22990</td>\n",
       "      <td>2956 Ratings &amp; 380 Reviews</td>\n",
       "      <td>Intel Core i3 Processor (10th Gen)</td>\n",
       "      <td>8 GB LPDDR4X RAM</td>\n",
       "      <td>256 GB SSD</td>\n",
       "      <td>https://rukminim2.flixcart.com/image/312/312/x...</td>\n",
       "    </tr>\n",
       "    <tr>\n",
       "      <th>11</th>\n",
       "      <td>HP Chromebook MediaTek Kompanio 500</td>\n",
       "      <td>3.7</td>\n",
       "      <td>21990</td>\n",
       "      <td>6746 Ratings &amp; 745 Reviews</td>\n",
       "      <td>MediaTek Kompanio 500 Processor</td>\n",
       "      <td>4 GB DDR4 RAM</td>\n",
       "      <td>29.46 cm (11.6 inch) Touchscreen Display</td>\n",
       "      <td>https://rukminim2.flixcart.com/image/312/312/x...</td>\n",
       "    </tr>\n",
       "    <tr>\n",
       "      <th>1</th>\n",
       "      <td>HP Chromebook MediaTek Kompanio 500</td>\n",
       "      <td>3.7</td>\n",
       "      <td>21190</td>\n",
       "      <td>6746 Ratings &amp; 745 Reviews</td>\n",
       "      <td>MediaTek Kompanio 500 Processor</td>\n",
       "      <td>4 GB LPDDR4X RAM</td>\n",
       "      <td>29.46 cm (11.6 inch) Touchscreen Display</td>\n",
       "      <td>https://rukminim2.flixcart.com/image/312/312/x...</td>\n",
       "    </tr>\n",
       "    <tr>\n",
       "      <th>18</th>\n",
       "      <td>HP 255 G9 840T7PA Athlon Dual Core 3050U</td>\n",
       "      <td>3.9</td>\n",
       "      <td>18990</td>\n",
       "      <td>382 Ratings &amp; 31 Reviews</td>\n",
       "      <td>AMD Athlon Dual Core Processor</td>\n",
       "      <td>4 GB DDR4 RAM</td>\n",
       "      <td>256 GB SSD</td>\n",
       "      <td>https://rukminim2.flixcart.com/image/312/312/x...</td>\n",
       "    </tr>\n",
       "    <tr>\n",
       "      <th>19</th>\n",
       "      <td>ASUS Chromebook Celeron Dual Core N4500</td>\n",
       "      <td>3.8</td>\n",
       "      <td>18990</td>\n",
       "      <td>25 Ratings &amp; 4 Reviews</td>\n",
       "      <td>Intel Celeron Dual Core Processor</td>\n",
       "      <td>8 GB LPDDR4X RAM</td>\n",
       "      <td>35.56 cm (14 Inch) Display</td>\n",
       "      <td>https://rukminim2.flixcart.com/image/312/312/x...</td>\n",
       "    </tr>\n",
       "    <tr>\n",
       "      <th>7</th>\n",
       "      <td>ASUS Chromebook Celeron Dual Core N4020</td>\n",
       "      <td>3.4</td>\n",
       "      <td>12990</td>\n",
       "      <td>451 Ratings &amp; 40 Reviews</td>\n",
       "      <td>Intel Celeron Dual Core Processor</td>\n",
       "      <td>4 GB LPDDR4 RAM</td>\n",
       "      <td>29.46 cm (11.6 Inch) Display</td>\n",
       "      <td>https://rukminim2.flixcart.com/image/312/312/k...</td>\n",
       "    </tr>\n",
       "    <tr>\n",
       "      <th>20</th>\n",
       "      <td>Primebook 4G Android Based MediaTek MT8788</td>\n",
       "      <td>4.1</td>\n",
       "      <td>12490</td>\n",
       "      <td>1174 Ratings &amp; 350 Reviews</td>\n",
       "      <td>MediaTek MT8788 Processor</td>\n",
       "      <td>4 GB LPDDR4 RAM</td>\n",
       "      <td>29.46 cm (11.6 Inch) Display</td>\n",
       "      <td>https://rukminim2.flixcart.com/image/312/312/x...</td>\n",
       "    </tr>\n",
       "    <tr>\n",
       "      <th>21</th>\n",
       "      <td>Primebook 4G Android Based MediaTek MT8788</td>\n",
       "      <td>4.2</td>\n",
       "      <td>11990</td>\n",
       "      <td>2169 Ratings &amp; 689 Reviews</td>\n",
       "      <td>MediaTek MT8788 Processor</td>\n",
       "      <td>4 GB LPDDR4 RAM</td>\n",
       "      <td>29.46 cm (11.6 Inch) Display</td>\n",
       "      <td>https://rukminim2.flixcart.com/image/312/312/x...</td>\n",
       "    </tr>\n",
       "    <tr>\n",
       "      <th>17</th>\n",
       "      <td>Primebook S Wifi MT8183</td>\n",
       "      <td>4.2</td>\n",
       "      <td>10990</td>\n",
       "      <td>324 Ratings &amp; 97 Reviews</td>\n",
       "      <td>MediaTek MT8183 Processor</td>\n",
       "      <td>4 GB LPDDR4 RAM</td>\n",
       "      <td>29.46 cm (11.6 Inch) Display</td>\n",
       "      <td>https://rukminim2.flixcart.com/image/312/312/x...</td>\n",
       "    </tr>\n",
       "    <tr>\n",
       "      <th>0</th>\n",
       "      <td>Primebook Wifi MT8183</td>\n",
       "      <td>4.2</td>\n",
       "      <td>9990</td>\n",
       "      <td>709 Ratings &amp; 191 Reviews</td>\n",
       "      <td>MediaTek MT8183 Processor</td>\n",
       "      <td>4 GB LPDDR4 RAM</td>\n",
       "      <td>29.46 cm (11.6 Inch) Display</td>\n",
       "      <td>https://rukminim2.flixcart.com/image/312/312/x...</td>\n",
       "    </tr>\n",
       "  </tbody>\n",
       "</table>\n",
       "</div>"
      ],
      "text/plain": [
       "                                              product  stars  price  \\\n",
       "8           realme Book Prime Core i5 11th Gen 11320H    4.3  49990   \n",
       "23           ASUS Vivobook 15 Core i5 11th Gen 1135G7    4.3  43990   \n",
       "9                          HP Ryzen 5 Hexa Core 5500U    4.3  42490   \n",
       "22                    HP Intel Core i3 12th Gen 1215U    4.2  41990   \n",
       "13             HP (2023) Intel Core i3 12th Gen 1215U    4.3  41990   \n",
       "4                         DELL Core i3 12th Gen 1215U    4.2  36290   \n",
       "5          realme Book (Slim) Core i3 11th Gen 1115G4    4.4  34999   \n",
       "15      Infinix X2 Slim Intel Core i5 11th Gen 1155G7    4.2  34990   \n",
       "3                     HP 2023 Ryzen 3 Dual Core 3250U    4.2  30990   \n",
       "12                   Acer One Core i3 11th Gen 1115G4    4.2  27990   \n",
       "2                      HP 2023 Athlon Dual Core 3050U    4.1  27990   \n",
       "10               HP 360 Intel Celeron Quad Core N4020    4.0  27490   \n",
       "16               HP 360 Intel Celeron Dual Core N4020    3.9  27490   \n",
       "14        Lenovo Lenovo V15 Celeron Dual Core 4th Gen    4.0  23990   \n",
       "6   Infinix INBook Y1 Plus Intel Core i3 10th Gen ...    4.2  22990   \n",
       "11                HP Chromebook MediaTek Kompanio 500    3.7  21990   \n",
       "1                 HP Chromebook MediaTek Kompanio 500    3.7  21190   \n",
       "18           HP 255 G9 840T7PA Athlon Dual Core 3050U    3.9  18990   \n",
       "19            ASUS Chromebook Celeron Dual Core N4500    3.8  18990   \n",
       "7             ASUS Chromebook Celeron Dual Core N4020    3.4  12990   \n",
       "20         Primebook 4G Android Based MediaTek MT8788    4.1  12490   \n",
       "21         Primebook 4G Android Based MediaTek MT8788    4.2  11990   \n",
       "17                            Primebook S Wifi MT8183    4.2  10990   \n",
       "0                               Primebook Wifi MT8183    4.2   9990   \n",
       "\n",
       "                          rating  \\\n",
       "8       446 Ratings & 66 Reviews   \n",
       "23    6000 Ratings & 466 Reviews   \n",
       "9     1890 Ratings & 165 Reviews   \n",
       "22    1944 Ratings & 208 Reviews   \n",
       "13    1555 Ratings & 128 Reviews   \n",
       "4       516 Ratings & 58 Reviews   \n",
       "5   15234 Ratings & 2137 Reviews   \n",
       "15      379 Ratings & 65 Reviews   \n",
       "3     2924 Ratings & 271 Reviews   \n",
       "12    3090 Ratings & 271 Reviews   \n",
       "2     2688 Ratings & 220 Reviews   \n",
       "10      503 Ratings & 45 Reviews   \n",
       "16      594 Ratings & 61 Reviews   \n",
       "14     1109 Ratings & 85 Reviews   \n",
       "6     2956 Ratings & 380 Reviews   \n",
       "11    6746 Ratings & 745 Reviews   \n",
       "1     6746 Ratings & 745 Reviews   \n",
       "18      382 Ratings & 31 Reviews   \n",
       "19        25 Ratings & 4 Reviews   \n",
       "7       451 Ratings & 40 Reviews   \n",
       "20    1174 Ratings & 350 Reviews   \n",
       "21    2169 Ratings & 689 Reviews   \n",
       "17      324 Ratings & 97 Reviews   \n",
       "0      709 Ratings & 191 Reviews   \n",
       "\n",
       "                                            processor  \\\n",
       "8                  Intel Core i5 Processor (11th Gen)   \n",
       "23                 Intel Core i5 Processor (11th Gen)   \n",
       "9                     AMD Ryzen 5 Hexa Core Processor   \n",
       "22                 Intel Core i3 Processor (12th Gen)   \n",
       "13                 Intel Core i3 Processor (12th Gen)   \n",
       "4   Processor: Intel i3-1215U (Base- 0.9 GHz & Tur...   \n",
       "5            Stylish & Portable Thin and Light Laptop   \n",
       "15                 Intel Core i5 Processor (11th Gen)   \n",
       "3                     AMD Ryzen 3 Dual Core Processor   \n",
       "12                 Intel Core i3 Processor (11th Gen)   \n",
       "2                      AMD Athlon Dual Core Processor   \n",
       "10                  Intel Celeron Quad Core Processor   \n",
       "16                  Intel Celeron Dual Core Processor   \n",
       "14        Intel Celeron Dual Core Processor (4th Gen)   \n",
       "6                  Intel Core i3 Processor (10th Gen)   \n",
       "11                    MediaTek Kompanio 500 Processor   \n",
       "1                     MediaTek Kompanio 500 Processor   \n",
       "18                     AMD Athlon Dual Core Processor   \n",
       "19                  Intel Celeron Dual Core Processor   \n",
       "7                   Intel Celeron Dual Core Processor   \n",
       "20                          MediaTek MT8788 Processor   \n",
       "21                          MediaTek MT8788 Processor   \n",
       "17                          MediaTek MT8183 Processor   \n",
       "0                           MediaTek MT8183 Processor   \n",
       "\n",
       "                                                  ram  \\\n",
       "8                                   16 GB LPDDR4X RAM   \n",
       "23                                      8 GB DDR4 RAM   \n",
       "9                                      16 GB DDR4 RAM   \n",
       "22                                      8 GB DDR4 RAM   \n",
       "13                                      8 GB DDR4 RAM   \n",
       "4                 RAM & Storage: 8GB DDR4 & 512GB SSD   \n",
       "5   14 inch 2K QHD IPS LCD Display ( 400nits peak ...   \n",
       "15                                  16 GB LPDDR4X RAM   \n",
       "3                                       8 GB DDR4 RAM   \n",
       "12                                      8 GB DDR4 RAM   \n",
       "2                                       8 GB DDR4 RAM   \n",
       "10                                    4 GB LPDDR4 RAM   \n",
       "16                                    4 GB LPDDR4 RAM   \n",
       "14                                      8 GB DDR4 RAM   \n",
       "6                                    8 GB LPDDR4X RAM   \n",
       "11                                      4 GB DDR4 RAM   \n",
       "1                                    4 GB LPDDR4X RAM   \n",
       "18                                      4 GB DDR4 RAM   \n",
       "19                                   8 GB LPDDR4X RAM   \n",
       "7                                     4 GB LPDDR4 RAM   \n",
       "20                                    4 GB LPDDR4 RAM   \n",
       "21                                    4 GB LPDDR4 RAM   \n",
       "17                                    4 GB LPDDR4 RAM   \n",
       "0                                     4 GB LPDDR4 RAM   \n",
       "\n",
       "                                              hardisk  \\\n",
       "8                                          512 GB SSD   \n",
       "23                                         512 GB SSD   \n",
       "9                                          512 GB SSD   \n",
       "22                                         512 GB SSD   \n",
       "13                                         512 GB SSD   \n",
       "4   Display: 15.6\" FHD WVA AG 120Hz 250 nits Narro...   \n",
       "5             Light Laptop without Optical Disk Drive   \n",
       "15                                         512 GB SSD   \n",
       "3                                          512 GB SSD   \n",
       "12                                         512 GB SSD   \n",
       "2                                          512 GB SSD   \n",
       "10             35.56 cm (14 Inch) Touchscreen Display   \n",
       "16             35.56 cm (14 Inch) Touchscreen Display   \n",
       "14                                         256 GB SSD   \n",
       "6                                          256 GB SSD   \n",
       "11           29.46 cm (11.6 inch) Touchscreen Display   \n",
       "1            29.46 cm (11.6 inch) Touchscreen Display   \n",
       "18                                         256 GB SSD   \n",
       "19                         35.56 cm (14 Inch) Display   \n",
       "7                        29.46 cm (11.6 Inch) Display   \n",
       "20                       29.46 cm (11.6 Inch) Display   \n",
       "21                       29.46 cm (11.6 Inch) Display   \n",
       "17                       29.46 cm (11.6 Inch) Display   \n",
       "0                        29.46 cm (11.6 Inch) Display   \n",
       "\n",
       "                                             ImageURL  \n",
       "8   https://rukminim2.flixcart.com/image/312/312/l...  \n",
       "23  https://rukminim2.flixcart.com/image/312/312/x...  \n",
       "9   https://rukminim2.flixcart.com/image/312/312/x...  \n",
       "22  https://rukminim2.flixcart.com/image/312/312/x...  \n",
       "13  https://rukminim2.flixcart.com/image/312/312/x...  \n",
       "4   https://rukminim2.flixcart.com/image/312/312/x...  \n",
       "5   https://rukminim2.flixcart.com/image/312/312/k...  \n",
       "15  https://rukminim2.flixcart.com/image/312/312/x...  \n",
       "3   https://rukminim2.flixcart.com/image/312/312/x...  \n",
       "12  https://rukminim2.flixcart.com/image/312/312/x...  \n",
       "2   https://rukminim2.flixcart.com/image/312/312/x...  \n",
       "10  https://rukminim2.flixcart.com/image/312/312/x...  \n",
       "16  https://rukminim2.flixcart.com/image/312/312/x...  \n",
       "14  https://rukminim2.flixcart.com/image/312/312/x...  \n",
       "6   https://rukminim2.flixcart.com/image/312/312/x...  \n",
       "11  https://rukminim2.flixcart.com/image/312/312/x...  \n",
       "1   https://rukminim2.flixcart.com/image/312/312/x...  \n",
       "18  https://rukminim2.flixcart.com/image/312/312/x...  \n",
       "19  https://rukminim2.flixcart.com/image/312/312/x...  \n",
       "7   https://rukminim2.flixcart.com/image/312/312/k...  \n",
       "20  https://rukminim2.flixcart.com/image/312/312/x...  \n",
       "21  https://rukminim2.flixcart.com/image/312/312/x...  \n",
       "17  https://rukminim2.flixcart.com/image/312/312/x...  \n",
       "0   https://rukminim2.flixcart.com/image/312/312/x...  "
      ]
     },
     "execution_count": 27,
     "metadata": {},
     "output_type": "execute_result"
    }
   ],
   "source": [
    "kl"
   ]
  },
  {
   "cell_type": "code",
   "execution_count": 29,
   "id": "9602b0f3",
   "metadata": {},
   "outputs": [
    {
     "data": {
      "image/png": "[encoded data removed]",
      "text/plain": [
       "<Figure size 720x360 with 1 Axes>"
      ]
     },
     "metadata": {
      "needs_background": "light"
     },
     "output_type": "display_data"
    }
   ],
   "source": [
    "plt.figure(figsize=(10,5))\n",
    "plt.bar(x=kl['product'],height=kl['price'])\n",
    "plt.title('TOP HIGHEST PRICE LAPTOPS')\n",
    "plt.xlabel('price')\n",
    "plt.ylabel('laptop names')\n",
    "plt.xticks(rotation=270)\n",
    "plt.show()"
   ]
  },
  {
   "cell_type": "code",
   "execution_count": null,
   "id": "257d5403",
   "metadata": {},
   "outputs": [],
   "source": []
  },
  {
   "cell_type": "code",
   "execution_count": null,
   "id": "784a2e3f",
   "metadata": {},
   "outputs": [],
   "source": []
  },
  {
   "cell_type": "code",
   "execution_count": null,
   "id": "5c1e27c8",
   "metadata": {},
   "outputs": [],
   "source": []
  }
 ],
 "metadata": {
  "kernelspec": {
   "display_name": "Python 3 (ipykernel)",
   "language": "python",
   "name": "python3"
  },
  "language_info": {
   "codemirror_mode": {
    "name": "ipython",
    "version": 3
   },
   "file_extension": ".py",
   "mimetype": "text/x-python",
   "name": "python",
   "nbconvert_exporter": "python",
   "pygments_lexer": "ipython3",
   "version": "3.9.7"
  }
 },
 "nbformat": 4,
 "nbformat_minor": 5
}
